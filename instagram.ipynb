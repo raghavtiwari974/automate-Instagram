{
 "cells": [
  {
   "cell_type": "code",
   "execution_count": null,
   "id": "4a16c957-0b78-4536-809e-0b938c54fc74",
   "metadata": {},
   "outputs": [],
   "source": [
    "import requests\n",
    "import time\n",
    "\n",
    "# Replace with your actual values\n",
    "ACCESS_TOKEN = 'YOUR_LONG_LIVED_ACCESS_TOKEN'\n",
    "IG_USER_ID = 'YOUR_IG_BUSINESS_ACCOUNT_ID'\n",
    "IMAGE_URL = 'https://www.example.com/sample.jpg'  # Must be publicly accessible\n",
    "CAPTION = '🚀 Posted using #Python and the Instagram Graph API!'\n",
    "\n",
    "# 1. Create a media object (photo post)\n",
    "create_url = f'https://graph.facebook.com/v20.0/{IG_USER_ID}/media'\n",
    "create_payload = {\n",
    "    'image_url': IMAGE_URL,\n",
    "    'caption': CAPTION,\n",
    "    'access_token': ACCESS_TOKEN\n",
    "}\n",
    "create_resp = requests.post(create_url, data=create_payload)\n",
    "result = create_resp.json()\n",
    "\n",
    "if 'id' not in result:\n",
    "    print(\"❌ Error creating media:\", result)\n",
    "    exit()\n",
    "\n",
    "creation_id = result['id']\n",
    "print(\"📸 Media creation ID:\", creation_id)\n",
    "\n",
    "# 2. Publish the media object\n",
    "publish_url = f'https://graph.facebook.com/v20.0/{IG_USER_ID}/media_publish'\n",
    "publish_payload = {\n",
    "    'creation_id': creation_id,\n",
    "    'access_token': ACCESS_TOKEN\n",
    "}\n",
    "# Wait for a few seconds (Instagram recommends delay)\n",
    "time.sleep(3)\n",
    "publish_resp = requests.post(publish_url, data=publish_payload)\n",
    "publish_result = publish_resp.json()\n",
    "\n",
    "if 'id' in publish_result:\n",
    "    print(\"✅ Post published successfully! Media ID:\", publish_result['id'])\n",
    "else:\n",
    "    print(\"❌ Failed to publish:\", publish_result)\n"
   ]
  }
 ],
 "metadata": {
  "kernelspec": {
   "display_name": "Python 3 (ipykernel)",
   "language": "python",
   "name": "python3"
  },
  "language_info": {
   "codemirror_mode": {
    "name": "ipython",
    "version": 3
   },
   "file_extension": ".py",
   "mimetype": "text/x-python",
   "name": "python",
   "nbconvert_exporter": "python",
   "pygments_lexer": "ipython3",
   "version": "3.12.7"
  }
 },
 "nbformat": 4,
 "nbformat_minor": 5
}
